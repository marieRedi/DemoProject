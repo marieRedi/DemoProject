{
  "nbformat": 4,
  "nbformat_minor": 0,
  "metadata": {
    "colab": {
      "provenance": [],
      "authorship_tag": "ABX9TyM1jvUOpITzF7UQIcePLRVA"
    },
    "kernelspec": {
      "name": "python3",
      "display_name": "Python 3"
    },
    "language_info": {
      "name": "python"
    }
  },
  "cells": [
    {
      "cell_type": "code",
      "execution_count": 1,
      "metadata": {
        "id": "u5ESDzmZATY7"
      },
      "outputs": [],
      "source": [
        "#Function- set of statment that may or may not take input and return output\n",
        "#User defined function is a function that gets defined by user to do some task"
      ]
    },
    {
      "cell_type": "code",
      "source": [
        "def funcx():\n",
        "  return \"first function\"\n",
        "funcx()# call function"
      ],
      "metadata": {
        "colab": {
          "base_uri": "https://localhost:8080/",
          "height": 36
        },
        "id": "m88Ft0sWAW-e",
        "outputId": "7f9e6e82-5691-4a3e-b429-4b08c94f0877"
      },
      "execution_count": 3,
      "outputs": [
        {
          "output_type": "execute_result",
          "data": {
            "text/plain": [
              "'first function'"
            ],
            "application/vnd.google.colaboratory.intrinsic+json": {
              "type": "string"
            }
          },
          "metadata": {},
          "execution_count": 3
        }
      ]
    },
    {
      "cell_type": "code",
      "source": [
        "# lets create a function that calculates the income tax\n",
        "\n",
        "def tax_calculations():\n",
        "  income = float(input(\"enter your income here?\"))\n",
        "  taxes =0\n",
        "  if income <10000:\n",
        "    print('no tax, please check welfare support')\n",
        "  elif income >10000 and income <25000:\n",
        "    print(f'tax will be {income* 0.1}')\n",
        "  elif income >=25000 and income < 50000:\n",
        "    taxes= income*0.15\n",
        "  elif income >=50000 and income <80000:\n",
        "    taxes = income*0.2\n",
        "  elif income >= 80000 and income <100000:\n",
        "    taxes = income *0.3\n",
        "  elif income >=100000:\n",
        "    taxes = income * 0.35\n",
        "  else:\n",
        "    print(\"something is wrong\")\n",
        "    return \"something is wrong\"\n",
        "  return taxes\n",
        "\n"
      ],
      "metadata": {
        "id": "crWhU2feAWuH"
      },
      "execution_count": 7,
      "outputs": []
    },
    {
      "cell_type": "code",
      "source": [
        "#call function\n",
        "\n",
        "tax_calculations()"
      ],
      "metadata": {
        "colab": {
          "base_uri": "https://localhost:8080/"
        },
        "id": "QrBXJRQpAWql",
        "outputId": "23e7ea32-6fc3-4ca8-95af-cdfa4aef143f"
      },
      "execution_count": 8,
      "outputs": [
        {
          "name": "stdout",
          "output_type": "stream",
          "text": [
            "enter your income here?50000\n"
          ]
        },
        {
          "output_type": "execute_result",
          "data": {
            "text/plain": [
              "10000.0"
            ]
          },
          "metadata": {},
          "execution_count": 8
        }
      ]
    },
    {
      "cell_type": "code",
      "source": [
        "#Passing parameter/argument\n"
      ],
      "metadata": {
        "id": "xaOBSHoNAWne"
      },
      "execution_count": null,
      "outputs": []
    },
    {
      "cell_type": "code",
      "source": [
        "def defx(cname):\n",
        "  print(cname + \"shirt\")"
      ],
      "metadata": {
        "id": "sKP5nWI5AWkH"
      },
      "execution_count": 10,
      "outputs": []
    },
    {
      "cell_type": "code",
      "source": [
        "#call function and pass parameter\n",
        "defx(\"red\")"
      ],
      "metadata": {
        "colab": {
          "base_uri": "https://localhost:8080/"
        },
        "id": "00S0cV3hAWhE",
        "outputId": "c766dab0-a114-4fc2-9e7a-a5bf75a21368"
      },
      "execution_count": 11,
      "outputs": [
        {
          "output_type": "stream",
          "name": "stdout",
          "text": [
            "redshirt\n"
          ]
        }
      ]
    },
    {
      "cell_type": "code",
      "source": [
        "# passing a default value when we don't pass a value\n",
        "\n",
        "def funx(ocean=\"pacific\"):\n",
        "  print(f\"might {ocean} ocean\")\n",
        "funx()"
      ],
      "metadata": {
        "colab": {
          "base_uri": "https://localhost:8080/"
        },
        "id": "TonltgIJAWeJ",
        "outputId": "14846d9c-0fc6-4018-c4d7-9fe335ec3064"
      },
      "execution_count": 14,
      "outputs": [
        {
          "output_type": "stream",
          "name": "stdout",
          "text": [
            "might pacific ocean\n"
          ]
        }
      ]
    },
    {
      "cell_type": "code",
      "source": [
        "#default parammeter will be overwritten when we pass value\n",
        "funx(\"atlantic\")"
      ],
      "metadata": {
        "colab": {
          "base_uri": "https://localhost:8080/"
        },
        "id": "rU3sGqitGmWx",
        "outputId": "239e439b-8df8-4dee-c2cb-b155007dbcf5"
      },
      "execution_count": 16,
      "outputs": [
        {
          "output_type": "stream",
          "name": "stdout",
          "text": [
            "might atlantic ocean\n"
          ]
        }
      ]
    },
    {
      "cell_type": "code",
      "source": [],
      "metadata": {
        "id": "R-BJL3MeHKX3"
      },
      "execution_count": null,
      "outputs": []
    },
    {
      "cell_type": "code",
      "source": [
        "def linear(m,x,c=2):\n",
        "  return m*x + c\n",
        "  #y =mx+c"
      ],
      "metadata": {
        "id": "WWBmUEduHKUU"
      },
      "execution_count": 18,
      "outputs": []
    },
    {
      "cell_type": "code",
      "source": [
        "y= linear(10,3)"
      ],
      "metadata": {
        "id": "8Q9dBTLaHKRZ"
      },
      "execution_count": 20,
      "outputs": []
    },
    {
      "cell_type": "code",
      "source": [
        "y"
      ],
      "metadata": {
        "colab": {
          "base_uri": "https://localhost:8080/"
        },
        "id": "W6lpzHAYHKEP",
        "outputId": "419343eb-6d4d-436b-9c67-68612bdb1380"
      },
      "execution_count": 21,
      "outputs": [
        {
          "output_type": "execute_result",
          "data": {
            "text/plain": [
              "32"
            ]
          },
          "metadata": {},
          "execution_count": 21
        }
      ]
    },
    {
      "cell_type": "code",
      "source": [
        "#can return multiple arguments\n",
        "\n",
        "def defy(a,b,c):\n",
        "  return a +b , b+c ,\"hello\"\n",
        "defy(6,5,8)  # or"
      ],
      "metadata": {
        "colab": {
          "base_uri": "https://localhost:8080/"
        },
        "id": "K-EGaqaJHKAl",
        "outputId": "0e89ce3a-4b31-4750-d938-621f105bd4d5"
      },
      "execution_count": 23,
      "outputs": [
        {
          "output_type": "execute_result",
          "data": {
            "text/plain": [
              "(11, 13, 'hello')"
            ]
          },
          "metadata": {},
          "execution_count": 23
        }
      ]
    },
    {
      "cell_type": "code",
      "source": [
        "x, y ,z = defy(6,5,8)\n",
        "y, x, z"
      ],
      "metadata": {
        "colab": {
          "base_uri": "https://localhost:8080/"
        },
        "id": "_iFSga9SHJ9-",
        "outputId": "09a337c9-6785-4388-925d-36cac336014d"
      },
      "execution_count": 26,
      "outputs": [
        {
          "output_type": "execute_result",
          "data": {
            "text/plain": [
              "(13, 11, 'hello')"
            ]
          },
          "metadata": {},
          "execution_count": 26
        }
      ]
    },
    {
      "cell_type": "code",
      "source": [
        "# lets create a function that calculates the income tax by passing a parameter\n",
        "\n",
        "def tax_calculations(income):\n",
        "  taxes =0\n",
        "  if income <10000:\n",
        "    print('no tax, please check welfare support')\n",
        "  elif income >10000 and income <25000:\n",
        "    print(f'tax will be {income* 0.1}')\n",
        "  elif income >=25000 and income < 50000:\n",
        "    taxes= income*0.15\n",
        "  elif income >=50000 and income <80000:\n",
        "    taxes = income*0.2\n",
        "  elif income >= 80000 and income <100000:\n",
        "    taxes = income *0.3\n",
        "  elif income >=100000:\n",
        "    taxes = income * 0.35\n",
        "  else:\n",
        "    print(\"something is wrong\")\n",
        "    return \"something is wrong\"\n",
        "  return taxes\n",
        "\n"
      ],
      "metadata": {
        "id": "KiZIkpBEHJ7T"
      },
      "execution_count": 34,
      "outputs": []
    },
    {
      "cell_type": "code",
      "source": [
        "amount = tax_calculations(10001)"
      ],
      "metadata": {
        "colab": {
          "base_uri": "https://localhost:8080/"
        },
        "id": "mSn4B6cDHJ41",
        "outputId": "f33d3da8-5b82-4e75-9440-2a0e6905700a"
      },
      "execution_count": 36,
      "outputs": [
        {
          "output_type": "stream",
          "name": "stdout",
          "text": [
            "tax will be 1000.1\n"
          ]
        }
      ]
    },
    {
      "cell_type": "code",
      "source": [],
      "metadata": {
        "id": "hW1twDcmHJ1w"
      },
      "execution_count": null,
      "outputs": []
    },
    {
      "cell_type": "code",
      "source": [],
      "metadata": {
        "id": "kky51VLKHJy-"
      },
      "execution_count": null,
      "outputs": []
    },
    {
      "cell_type": "code",
      "source": [],
      "metadata": {
        "id": "FKSkJLEIHJnP"
      },
      "execution_count": null,
      "outputs": []
    },
    {
      "cell_type": "code",
      "source": [],
      "metadata": {
        "id": "IlGRYN0XGwUf"
      },
      "execution_count": null,
      "outputs": []
    }
  ]
}